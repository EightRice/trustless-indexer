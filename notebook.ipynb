{
 "cells": [
  {
   "cell_type": "code",
   "execution_count": 37,
   "metadata": {},
   "outputs": [],
   "source": [
    "testnet_rpc=\"https://node.ghostnet.etherlink.com\"\n",
    "mainnet_rpc=\"https://node.mainnet.etherlink.com\"\n",
    "daoContracts=[\n",
    "    \"0xf30FFa222C88407bec571eB0bf6127b2689977F6\",\n",
    "    \"0x55C7cd00B97Fe03be5146EcDa4294AF646597b40\"\n",
    "]"
   ]
  },
  {
   "cell_type": "code",
   "execution_count": 55,
   "metadata": {},
   "outputs": [
    {
     "name": "stdout",
     "output_type": "stream",
     "text": [
      "connected\n"
     ]
    }
   ],
   "source": [
    "from web3 import Web3\n",
    "from abis import economyAbi\n",
    "import importlib\n",
    "import abis\n",
    "web3 = Web3(Web3.HTTPProvider(testnet_rpc))\n",
    "\n",
    "if web3.is_connected():\n",
    "    print(\"connected\")\n",
    "else:\n",
    "    print(\"something is not\")\n"
   ]
  },
  {
   "cell_type": "code",
   "execution_count": 75,
   "metadata": {},
   "outputs": [],
   "source": [
    "from abis import economyAbi\n",
    "import re\n",
    "ceva=re.sub(r'\\n+', ' ', economyAbi).strip()\n",
    "\n",
    "contract = web3.eth.contract(address=\"0x55C7cd00B97Fe03be5146EcDa4294AF646597b40\", abi=ceva)"
   ]
  },
  {
   "cell_type": "code",
   "execution_count": null,
   "metadata": {},
   "outputs": [],
   "source": [
    "start_block = web3.eth.block_number-20"
   ]
  },
  {
   "cell_type": "code",
   "execution_count": 42,
   "metadata": {},
   "outputs": [],
   "source": [
    "current_block=web3.eth.block_number"
   ]
  },
  {
   "cell_type": "code",
   "execution_count": 46,
   "metadata": {},
   "outputs": [],
   "source": [
    "current_block=web3.eth.block_number\n",
    "logs = web3.eth.get_logs({\n",
    "            \"fromBlock\": start_block,\n",
    "            \"toBlock\": current_block,\n",
    "            \"address\": daoContracts[0],\n",
    "            \"topics\": [web3.keccak(text=\"ValueChanged(address,uint256)\").hex()]\n",
    "        })"
   ]
  },
  {
   "cell_type": "code",
   "execution_count": 78,
   "metadata": {},
   "outputs": [],
   "source": [
    "loguri=[\n",
    "  {\n",
    "    \"logIndex\": \"0x1\",\n",
    "    \"blockNumber\": \"0x2\",\n",
    "    \"blockHash\": \"0x128304efbf811e8711772ba92ca14111104d84bb65183ae0bf67675124e0c9f3\",\n",
    "    \"transactionHash\": \"0x4da3e8cb2ccff0c15573794fd0e4e9d3a460f81512a975a04fae97c13b69626c\",\n",
    "    \"transactionIndex\": \"0x0\",\n",
    "    \"address\": \"0xd9145CCE52D386f254917e481eB44e9943F39138\",\n",
    "    \"data\": \"0x0000000000000000000000005c9eb5d6a6c2c1b3efc52255c0b356f116f6f66d\",\n",
    "    \"topics\": [\n",
    "      \"0x68365eb7cc3ad309735136b92b0742f9588ae91c706315a4088a06ec255dd292\"\n",
    "    ]\n",
    "  }\n",
    "]"
   ]
  },
  {
   "cell_type": "code",
   "execution_count": 84,
   "metadata": {},
   "outputs": [
    {
     "data": {
      "text/plain": [
       "dict"
      ]
     },
     "execution_count": 84,
     "metadata": {},
     "output_type": "execute_result"
    }
   ],
   "source": [
    "import json\n",
    "type(loguri[0])"
   ]
  },
  {
   "cell_type": "code",
   "execution_count": 77,
   "metadata": {},
   "outputs": [
    {
     "data": {
      "text/plain": [
       "AttributeDict({'address': '0xf30FFa222C88407bec571eB0bf6127b2689977F6',\n",
       " 'topics': [HexBytes('0xe2b64d6eb95e02b6354c9dad0f0b75f05c8659bc5f2a0f91bc457fc27c55c688'),\n",
       "  HexBytes('0x000000000000000000000000a6a40e0b6db5a6f808703dbe91dbe50b7fc1fa3e')],\n",
       " 'data': HexBytes('0x000000000000000000000000000000000000000000000000000000000012c98b'),\n",
       " 'blockNumber': 13409649,\n",
       " 'transactionHash': HexBytes('0xfb724afbc8c0fabfb31c17c6bb976f933e0ae3e654284b6659bf5c4997f506b2'),\n",
       " 'transactionIndex': 1,\n",
       " 'blockHash': HexBytes('0xb1c1c9d6dce0f9bd465c1deda936c2d6a5bb7eb29838b86af398c59686f02199'),\n",
       " 'logIndex': 3,\n",
       " 'removed': False})"
      ]
     },
     "execution_count": 77,
     "metadata": {},
     "output_type": "execute_result"
    }
   ],
   "source": [
    "logs[0]"
   ]
  },
  {
   "cell_type": "code",
   "execution_count": 85,
   "metadata": {},
   "outputs": [],
   "source": [
    "decoded_event = contract.events.NewProject().process_log(loguri[0])\n",
    "\n",
    "# # Access the decoded event data\n",
    "# sender = decoded_event['args']['sender']\n",
    "# new_value = decoded_event['args']['newValue']"
   ]
  },
  {
   "cell_type": "code",
   "execution_count": null,
   "metadata": {},
   "outputs": [
    {
     "data": {
      "text/plain": [
       "'0x5C9eb5D6a6C2c1B3EFc52255C0b356f116f6f66D'"
      ]
     },
     "execution_count": 87,
     "metadata": {},
     "output_type": "execute_result"
    }
   ],
   "source": [
    "deployedProject = decoded_event['args']['contractAddress']\n"
   ]
  },
  {
   "cell_type": "code",
   "execution_count": 50,
   "metadata": {},
   "outputs": [],
   "source": [
    "# Access the decoded event data\n",
    "sender = decoded_event['args']['sender']\n",
    "new_value = decoded_event['args']['newValue']"
   ]
  },
  {
   "cell_type": "code",
   "execution_count": 51,
   "metadata": {},
   "outputs": [
    {
     "data": {
      "text/plain": [
       "'0xA6A40E0b6DB5a6f808703DBe91DbE50B7FC1fa3E'"
      ]
     },
     "execution_count": 51,
     "metadata": {},
     "output_type": "execute_result"
    }
   ],
   "source": [
    "sender"
   ]
  },
  {
   "cell_type": "code",
   "execution_count": 52,
   "metadata": {},
   "outputs": [
    {
     "data": {
      "text/plain": [
       "1231243"
      ]
     },
     "execution_count": 52,
     "metadata": {},
     "output_type": "execute_result"
    }
   ],
   "source": [
    "new_value"
   ]
  },
  {
   "cell_type": "code",
   "execution_count": null,
   "metadata": {},
   "outputs": [],
   "source": [
    "while True:\n",
    "    end_block = web3.eth.block_number  # Get the latest block\n",
    "    if start_block <= end_block:\n",
    "        # Get logs for the event in the specified block range\n",
    "        logs = web3.eth.get_logs({\n",
    "            \"fromBlock\": start_block,\n",
    "            \"toBlock\": end_block,\n",
    "            \"address\": contract_address,\n",
    "            \"topics\": [event_signature_hash]\n",
    "        })\n",
    "\n",
    "        # Process each log entry\n",
    "        for log in logs:\n",
    "            event = contract.events.ValueChanged().process_log(log)\n",
    "            sender = event['args']['sender']\n",
    "            new_value = event['args']['newValue']\n",
    "            print(f\"ValueChanged event: sender={sender}, newValue={new_value}\")\n",
    "\n",
    "        # Update the starting block to avoid re-processing\n",
    "        start_block = end_block + 1\n",
    "    time.sleep(2)  # Adjust polling interval as needed"
   ]
  },
  {
   "cell_type": "code",
   "execution_count": null,
   "metadata": {},
   "outputs": [],
   "source": [
    "from firebase_admin import initialize_app\n",
    "from firebase_admin import firestore,credentials\n",
    "\n",
    "cred = credentials.Certificate('trustless.json')\n",
    "initialize_app(cred)\n",
    "db = firestore.client()\n",
    "# doc = doc_ref.set({\"something\":\"is definitely happening\"})"
   ]
  }
 ],
 "metadata": {
  "kernelspec": {
   "display_name": "media",
   "language": "python",
   "name": "python3"
  },
  "language_info": {
   "codemirror_mode": {
    "name": "ipython",
    "version": 3
   },
   "file_extension": ".py",
   "mimetype": "text/x-python",
   "name": "python",
   "nbconvert_exporter": "python",
   "pygments_lexer": "ipython3",
   "version": "3.12.3"
  }
 },
 "nbformat": 4,
 "nbformat_minor": 2
}
